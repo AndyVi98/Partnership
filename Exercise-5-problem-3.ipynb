{
 "cells": [
  {
   "cell_type": "markdown",
   "metadata": {
    "deletable": false,
    "editable": false,
    "nbgrader": {
     "cell_type": "markdown",
     "checksum": "2190fdba31b6f247358b0af31bbe343e",
     "grade": false,
     "grade_id": "Intro_text",
     "locked": true,
     "schema_version": 3,
     "solution": false
    },
    "tags": []
   },
   "source": [
    "## Problem 3 - Data analysis (4 points)\n",
    "\n",
    "In this problem we will explore our temperature data by comparing spring temperatures between Helsinki Kumpula and Rovaniemi. To do this we'll use some conditions to extract subsets of our data and then analyse these subsets using basic pandas functions. Please perform the tasks below by writing your code into the codeblocks in each section.\n",
    "\n",
    "### Tips for completing this problem\n",
    "\n",
    "- Use **exactly** the same variable names as in the instructions.\n",
    "- **Please do not**:\n",
    "\n",
    "    - **Change the file names**. Do all of your editing in the provided `Exercise-5-problem-3.ipynb` file (this file).\n",
    "    - **Change the existing cell types**. You can add cells, but changing the cell types for existing cells (from code to markdown, for example) will also cause the automated grader to fail. \n",
    "\n",
    "### Scores for this problem\n",
    "\n",
    "**Your score on this problem will be based on following criteria:**\n",
    "\n",
    "- Calculating the median temperatures for Mactan and Hinatuan for March-May of 2018\n",
    "- Selecting temperatures for April and December 2018 in separate dataframes for each location\n",
    "- Printing out some summary values for each month (April, December) and location (Mactan, Hinatuan)\n",
    "- Including comments that explain what most lines in the code do\n",
    "- Answering a couple questions at the end of the problem\n",
    "- Uploading your notebook and data files to your GitHub repository for this week's exercise"
   ]
  },
  {
   "cell_type": "markdown",
   "metadata": {
    "deletable": false,
    "editable": false,
    "nbgrader": {
     "cell_type": "markdown",
     "checksum": "1b6ab534a2cd475117b7d0016c7cf9f3",
     "grade": false,
     "grade_id": "cell-33c2d0518738c711",
     "locked": true,
     "schema_version": 3,
     "solution": false,
     "task": false
    },
    "tags": []
   },
   "source": [
    "### Part 1 (0 points)\n",
    "\n",
    "First, you need to load the data from Problem 2.\n",
    "\n",
    "- Read in the csv files generated in Problem 2 to the variables `mactan` and `hinatuan`"
   ]
  },
  {
   "cell_type": "code",
   "execution_count": 1,
   "metadata": {
    "deletable": false,
    "nbgrader": {
     "cell_type": "code",
     "checksum": "deb603f4e6e03059689d01f3d8ca3044",
     "grade": false,
     "grade_id": "problem_3_ag_p1_read_data",
     "locked": false,
     "schema_version": 3,
     "solution": true
    }
   },
   "outputs": [],
   "source": [
    "import pandas as pd\n",
    "mactan = None\n",
    "hinatuan = None\n",
    "\n",
    "# YOUR CODE HERE\n",
    "mactan = pd.read_csv('Mactan_temps_2019-01_2020-12.csv')\n",
    "hinatuan = pd.read_csv('Hinatuan_temps_2019-01_2020-12.csv')"
   ]
  },
  {
   "cell_type": "code",
   "execution_count": 2,
   "metadata": {},
   "outputs": [
    {
     "name": "stdout",
     "output_type": "stream",
     "text": [
      "       STATION        DATE   TEMP     MAX     MIN  Celsius\n",
      "0  RPM00098646  2017-01-01  79.70  86.000     ***    61.92\n",
      "1  RPM00098646  2017-01-02  79.88  85.640     ***    62.10\n",
      "2  RPM00098646  2017-01-03  82.40  88.520  76.640    64.62\n",
      "3  RPM00098646  2017-01-04  82.04  89.240     ***    64.26\n",
      "4  RPM00098646  2017-01-05  81.32  88.520  77.000    63.54\n",
      "\n",
      "       STATION        DATE   TEMP     MAX     MIN  Celsius\n",
      "0  RP000098755  2017-01-01  80.06  84.200  75.200    62.28\n",
      "1  RP000098755  2017-01-02  80.78  85.640  75.920    63.00\n",
      "2  RP000098755  2017-01-03  79.88  85.280     ***    62.10\n",
      "3  RP000098755  2017-01-04  80.60  86.360  75.380    62.82\n",
      "4  RP000098755  2017-01-05  77.72  89.060     ***    59.94\n"
     ]
    }
   ],
   "source": [
    "print(mactan.head())\n",
    "print('')\n",
    "print(hinatuan.head())"
   ]
  },
  {
   "cell_type": "markdown",
   "metadata": {
    "deletable": false,
    "editable": false,
    "nbgrader": {
     "cell_type": "markdown",
     "checksum": "b74443c30f8df10c1f56cbf265d62a41",
     "grade": false,
     "grade_id": "cell-c25a29efbcf77ee7",
     "locked": true,
     "schema_version": 3,
     "solution": false,
     "task": false
    },
    "tags": []
   },
   "source": [
    "### Part 2 (1 points)\n",
    "\n",
    "Next you can find some median temperature values for the period the data covers.\n",
    "\n",
    "- What was the median Celsius temperature during the observed period in:\n",
    "    - Mactan, Cebu? (store the answer in a variable `mactan_median`)\n",
    "    - Hinatuan, Surigao del Sur? (store the answer in a variable `hinatuan_median`)"
   ]
  },
  {
   "cell_type": "code",
   "execution_count": 3,
   "metadata": {
    "deletable": false,
    "nbgrader": {
     "cell_type": "code",
     "checksum": "975856c4e5d377c3aaabec3af0fe53da",
     "grade": false,
     "grade_id": "problem_3_ag_p2_median",
     "locked": false,
     "schema_version": 3,
     "solution": true
    }
   },
   "outputs": [],
   "source": [
    "mactan_median = None\n",
    "hinatuan_median = None\n",
    "\n",
    "# YOUR CODE HERE\n",
    "mactan_median = mactan['Celsius'].median()\n",
    "hinatuan_median = hinatuan['Celsius'].median()"
   ]
  },
  {
   "cell_type": "code",
   "execution_count": 4,
   "metadata": {
    "deletable": false,
    "editable": false,
    "nbgrader": {
     "cell_type": "code",
     "checksum": "c74731bd13e85d92c4c9c1b77dabc589",
     "grade": true,
     "grade_id": "problem_3_ag_p2_median_test",
     "locked": true,
     "points": 1,
     "schema_version": 3,
     "solution": false
    },
    "tags": []
   },
   "outputs": [
    {
     "name": "stdout",
     "output_type": "stream",
     "text": [
      "Mactan median: 64.8\n",
      "Hinatuan median: 63.36\n"
     ]
    }
   ],
   "source": [
    "# Prints the median temperatures\n",
    "print(f\"Mactan median: {mactan_median}\")\n",
    "print(f\"Hinatuan median: {hinatuan_median}\")\n"
   ]
  },
  {
   "cell_type": "markdown",
   "metadata": {
    "deletable": false,
    "editable": false,
    "nbgrader": {
     "cell_type": "markdown",
     "checksum": "177502bb4ee7abc753b57a16250f3c15",
     "grade": false,
     "grade_id": "cell-6eda08b036b421d9",
     "locked": true,
     "schema_version": 3,
     "solution": false,
     "task": false
    },
    "tags": []
   },
   "source": [
    "### Part 3 (2 points)\n",
    "\n",
    "The median temperatures above consider data from the entire \"summer\" (Mar-May), hence the differences might not be so clear. Let's now find out the mean temperatures from March and May 2018 in Mactan and Hinatuan.\n",
    "\n",
    "- From the `mactan` and `hinatuan` DataFrames, select the rows where values of the `DATE` column are from March 2018\n",
    "    - Assign these selected rows into the variables `mactan_mar` and `hinatuan_mar` (you can check the [hints](https://geo-python.github.io/site/lessons/L5/exercise-5.html) for help!)\n",
    "- Repeat the procedure for the month of May and assign those values into variables to `mactan_may` and `hinatuan_may`"
   ]
  },
  {
   "cell_type": "code",
   "execution_count": 5,
   "metadata": {
    "deletable": false,
    "nbgrader": {
     "cell_type": "code",
     "checksum": "e658e48c072ada99e4541860ebaf0095",
     "grade": false,
     "grade_id": "problem_3_ag_p3_may",
     "locked": false,
     "schema_version": 3,
     "solution": true
    },
    "tags": []
   },
   "outputs": [],
   "source": [
    "# Select the subset of the Mactan and Hinatuan data for the 3rd and 5th month\n",
    "mactan_mar = None\n",
    "hinatuan_mar = None\n",
    "\n",
    "mactan_may = None\n",
    "hinatuan_may = None\n",
    "\n",
    "# YOUR CODE HERE\n",
    "mactan_mar = mactan.loc[                        #isolate the dates first and remember the format in this .csv file\n",
    "    (mactan['DATE'] >= \"2018-03-01\") &\n",
    "    (mactan['DATE'] < \"2018-04-01\")\n",
    "]\n",
    "\n",
    "hinatuan_mar = hinatuan.loc[\n",
    "    (hinatuan['DATE'] >= \"2018-03-01\") &\n",
    "    (hinatuan['DATE'] < \"2018-04-01\")\n",
    "]\n",
    "\n",
    "mactan_may = mactan.loc[\n",
    "    (mactan['DATE'] >= \"2018-05-01\") &\n",
    "    (mactan['DATE'] < \"2018-06-01\")\n",
    "]\n",
    "\n",
    "hinatuan_may = hinatuan.loc[\n",
    "    (hinatuan['DATE'] >= \"2018-05-01\") &\n",
    "    (hinatuan['DATE'] < \"2018-06-01\")\n",
    "]"
   ]
  },
  {
   "cell_type": "markdown",
   "metadata": {
    "deletable": false,
    "editable": false,
    "nbgrader": {
     "cell_type": "markdown",
     "checksum": "ced113a7a44f6c3bc88de58a3dc62056",
     "grade": false,
     "grade_id": "cell-c20a16ae3d1442cb",
     "locked": true,
     "schema_version": 3,
     "solution": false,
     "task": false
    }
   },
   "source": [
    "Check that the subsets look ok:"
   ]
  },
  {
   "cell_type": "code",
   "execution_count": 6,
   "metadata": {
    "deletable": false,
    "editable": false,
    "nbgrader": {
     "cell_type": "code",
     "checksum": "2b46b5ac73b0c1ecdec568ab8da5f07d",
     "grade": true,
     "grade_id": "problem_3_ag_p3_Kumpula_may_test",
     "locked": true,
     "points": 0.5,
     "schema_version": 3,
     "solution": false
    },
    "tags": []
   },
   "outputs": [
    {
     "name": "stdout",
     "output_type": "stream",
     "text": [
      "First values in March, Mactan:\n",
      "         STATION        DATE   TEMP     MAX     MIN  Celsius\n",
      "424  RPM00098646  2018-03-01  82.58  88.520     ***    64.80\n",
      "425  RPM00098646  2018-03-02  82.40  88.880  76.280    64.62\n",
      "426  RPM00098646  2018-03-03  83.12  89.960  76.640    65.34\n",
      "427  RPM00098646  2018-03-04  81.68  88.880     ***    63.90\n",
      "428  RPM00098646  2018-03-05  82.76  89.600  75.920    64.98\n",
      "\n",
      "Last values in March, Mactan:\n",
      "         STATION        DATE   TEMP     MAX     MIN  Celsius\n",
      "450  RPM00098646  2018-03-27  80.96  88.880     ***    63.18\n",
      "451  RPM00098646  2018-03-28  81.68  88.700  73.760    63.90\n",
      "452  RPM00098646  2018-03-29  81.14  88.880     ***    63.36\n",
      "453  RPM00098646  2018-03-30  81.32  87.800  74.480    63.54\n",
      "454  RPM00098646  2018-03-31  82.40  89.600  76.640    64.62\n"
     ]
    }
   ],
   "source": [
    "print(f\"First values in March, Mactan:\\n{mactan_mar.head()}\\n\")\n",
    "print(f\"Last values in March, Mactan:\\n{mactan_mar.tail()}\")"
   ]
  },
  {
   "cell_type": "code",
   "execution_count": 7,
   "metadata": {
    "deletable": false,
    "editable": false,
    "nbgrader": {
     "cell_type": "code",
     "checksum": "e4d83fa396f745a05cfd902c4107fc23",
     "grade": true,
     "grade_id": "problem_3_ag_p3_Kumpula_june_test",
     "locked": true,
     "points": 0.5,
     "schema_version": 3,
     "solution": false,
     "task": false
    },
    "tags": []
   },
   "outputs": [
    {
     "name": "stdout",
     "output_type": "stream",
     "text": [
      "First values in May, Mactan:\n",
      "         STATION        DATE   TEMP     MAX     MIN  Celsius\n",
      "485  RPM00098646  2018-05-01  86.18  91.760  79.520    68.40\n",
      "486  RPM00098646  2018-05-02  85.10  93.020     ***    67.32\n",
      "487  RPM00098646  2018-05-03  78.98  84.560     ***    61.20\n",
      "488  RPM00098646  2018-05-04  82.40  88.880     ***    64.62\n",
      "489  RPM00098646  2018-05-05  83.66  90.500  75.560    65.88\n",
      "\n",
      "Last values in May, Mactan:\n",
      "         STATION        DATE   TEMP     MAX     MIN  Celsius\n",
      "511  RPM00098646  2018-05-27  87.08  92.300  80.600    69.30\n",
      "512  RPM00098646  2018-05-28  86.72  93.020  81.320    68.94\n",
      "513  RPM00098646  2018-05-29  86.18  90.320     ***    68.40\n",
      "514  RPM00098646  2018-05-30  83.48  90.680     ***    65.70\n",
      "515  RPM00098646  2018-05-31  84.20  91.400     ***    66.42\n"
     ]
    }
   ],
   "source": [
    "print(f\"First values in May, Mactan:\\n{mactan_may.head()}\\n\")\n",
    "print(f\"Last values in May, Mactan:\\n{mactan_may.tail()}\")"
   ]
  },
  {
   "cell_type": "code",
   "execution_count": 8,
   "metadata": {
    "deletable": false,
    "editable": false,
    "nbgrader": {
     "cell_type": "code",
     "checksum": "227099ba97029cbeb597834860f637b2",
     "grade": true,
     "grade_id": "problem_3_ag_p3_Rovaniemi_may_test",
     "locked": true,
     "points": 0.5,
     "schema_version": 3,
     "solution": false
    },
    "tags": []
   },
   "outputs": [
    {
     "name": "stdout",
     "output_type": "stream",
     "text": [
      "First values in March, Hinatuan:\n",
      "         STATION        DATE   TEMP     MAX     MIN  Celsius\n",
      "424  RP000098755  2018-03-01  80.60  85.280  75.380    62.82\n",
      "425  RP000098755  2018-03-02  80.96  86.180     ***    63.18\n",
      "426  RP000098755  2018-03-03  80.24  88.340     ***    62.46\n",
      "427  RP000098755  2018-03-04  78.98  86.180  73.220    61.20\n",
      "428  RP000098755  2018-03-05  81.50  87.440  73.400    63.72\n",
      "\n",
      "Last values in March, Hinatuan:\n",
      "         STATION        DATE   TEMP     MAX     MIN  Celsius\n",
      "450  RP000098755  2018-03-27  78.80  87.800     ***    61.02\n",
      "451  RP000098755  2018-03-28  82.04  92.300  68.720    64.26\n",
      "452  RP000098755  2018-03-29  81.32  89.600  74.120    63.54\n",
      "453  RP000098755  2018-03-30  81.32  90.500  72.500    63.54\n",
      "454  RP000098755  2018-03-31  77.90  85.100     ***    60.12\n"
     ]
    }
   ],
   "source": [
    "print(f\"First values in March, Hinatuan:\\n{hinatuan_mar.head()}\\n\")\n",
    "print(f\"Last values in March, Hinatuan:\\n{hinatuan_mar.tail()}\")"
   ]
  },
  {
   "cell_type": "code",
   "execution_count": 9,
   "metadata": {
    "deletable": false,
    "editable": false,
    "nbgrader": {
     "cell_type": "code",
     "checksum": "b1479509bbe424439169f91d57fa1c54",
     "grade": true,
     "grade_id": "problem_3_ag_p3_Rovaniemi_june_test",
     "locked": true,
     "points": 0.5,
     "schema_version": 3,
     "solution": false,
     "task": false
    },
    "tags": []
   },
   "outputs": [
    {
     "name": "stdout",
     "output_type": "stream",
     "text": [
      "First values in May, Hinatuan:\n",
      "         STATION        DATE   TEMP     MAX     MIN  Celsius\n",
      "485  RP000098755  2018-05-01  82.22  89.240  76.100    64.44\n",
      "486  RP000098755  2018-05-02  79.88  87.800     ***    62.10\n",
      "487  RP000098755  2018-05-03  81.50  90.860  74.840    63.72\n",
      "488  RP000098755  2018-05-04  81.86  89.960  75.560    64.08\n",
      "489  RP000098755  2018-05-05  82.22  89.600     ***    64.44\n",
      "\n",
      "Last values in May, Hinatuan:\n",
      "         STATION        DATE   TEMP     MAX     MIN  Celsius\n",
      "511  RP000098755  2018-05-27  82.94  93.020  77.000    65.16\n",
      "512  RP000098755  2018-05-28  83.12  91.040     ***    65.34\n",
      "513  RP000098755  2018-05-29  81.68  92.300  74.660    63.90\n",
      "514  RP000098755  2018-05-30  76.64  81.140     ***    58.86\n",
      "515  RP000098755  2018-05-31  81.68  90.860  72.860    63.90\n"
     ]
    }
   ],
   "source": [
    "print(f\"First values in May, Hinatuan:\\n{hinatuan_may.head()}\\n\")\n",
    "print(f\"Last values in May, Hinatuan:\\n{hinatuan_may.tail()}\")"
   ]
  },
  {
   "cell_type": "markdown",
   "metadata": {
    "deletable": false,
    "editable": false,
    "nbgrader": {
     "cell_type": "markdown",
     "checksum": "a65a68a4bf3075ccc9de3bb5ce5266c1",
     "grade": false,
     "grade_id": "cell-5d735e872f16ccd5",
     "locked": true,
     "schema_version": 3,
     "solution": false,
     "task": false
    },
    "tags": []
   },
   "source": [
    "### Part 4 (1 point)\n",
    "\n",
    "Now you can make your temperature data from both locations and months easier to compare by printing out a few useful values.\n",
    "\n",
    "- Use the `print()` function to show the mean, min and max Celsius temperatures for both places in March and May using the new subset dataframes (`mactan_mar`, `hinatuan_mar`, `mactan_may`, and `hinatuan_may`)."
   ]
  },
  {
   "cell_type": "code",
   "execution_count": 10,
   "metadata": {
    "deletable": false,
    "nbgrader": {
     "cell_type": "code",
     "checksum": "12a6c95dd173d219530d35b72f81490f",
     "grade": true,
     "grade_id": "problem_3_mg_p4_May_and_June_stats",
     "locked": false,
     "points": 1,
     "schema_version": 3,
     "solution": true
    }
   },
   "outputs": [
    {
     "name": "stdout",
     "output_type": "stream",
     "text": [
      "The mean, min and max Celsius temperatures for Mactan in March are 64.07, 60.84, and 66.24 respectively.\n",
      "The mean, min and max Celsius temperatures for Mactan in May are 67.13, 61.20, and 69.48 respectively.\n",
      "The mean, min and max Celsius temperatures for Hinatuan in March are 62.22, 57.24, and 64.62 respectively.\n",
      "The mean, min and max Celsius temperatures for Hinatuan in May are 64.81, 58.86, and 66.96 respectively.\n"
     ]
    }
   ],
   "source": [
    "# YOUR CODE HERE\n",
    "print(\n",
    "    f\"The mean, min and max Celsius temperatures for Mactan in March are {mactan_mar['Celsius'].mean():.2f}, {mactan_mar['Celsius'].min():.2f}, and {mactan_mar['Celsius'].max():.2f} respectively.\"\n",
    ")\n",
    "print(\n",
    "    f\"The mean, min and max Celsius temperatures for Mactan in May are {mactan_may['Celsius'].mean():.2f}, {mactan_may['Celsius'].min():.2f}, and {mactan_may['Celsius'].max():.2f} respectively.\"\n",
    ")\n",
    "print(\n",
    "    f\"The mean, min and max Celsius temperatures for Hinatuan in March are {hinatuan_mar['Celsius'].mean():.2f}, {hinatuan_mar['Celsius'].min():.2f}, and {hinatuan_mar['Celsius'].max():.2f} respectively.\"\n",
    ")\n",
    "print(\n",
    "    f\"The mean, min and max Celsius temperatures for Hinatuan in May are {hinatuan_may['Celsius'].mean():.2f}, {hinatuan_may['Celsius'].min():.2f}, and {hinatuan_may['Celsius'].max():.2f} respectively.\"\n",
    ")"
   ]
  },
  {
   "cell_type": "markdown",
   "metadata": {
    "deletable": false,
    "editable": false,
    "nbgrader": {
     "cell_type": "markdown",
     "checksum": "c19a758e3ace532979854894a73433a0",
     "grade": false,
     "grade_id": "comments",
     "locked": true,
     "schema_version": 3,
     "solution": false
    },
    "tags": []
   },
   "source": [
    "### Problem 3 summary\n",
    "\n",
    "In the spirit of [knowledge discovery](http://researcher.ibm.com/researcher/view_group.php?id=144), let's briefly interpret the results of the data analysis in Problem 3. Please answer the following questions based on the data analysis results from this problem:\n",
    "\n",
    "- Does there seem to be a large difference in temperatures between the months?\n",
    "- Is Hinatuan a much cooler place than Mactan?\n",
    "\n",
    "Also, be sure to:\n",
    "\n",
    "- Check that your code includes informative comments explaining what your code does\n",
    "- Commit and push your changes to your GitHub repository for Exercise 5"
   ]
  },
  {
   "cell_type": "markdown",
   "metadata": {
    "deletable": false,
    "nbgrader": {
     "cell_type": "markdown",
     "checksum": "1f0848d8fe16e12f1951ccdd1b5edf83",
     "grade": true,
     "grade_id": "problem_3_mg_p5_questions",
     "locked": false,
     "points": 0,
     "schema_version": 3,
     "solution": true,
     "task": false
    }
   },
   "source": [
    "YOUR ANSWER HERE"
   ]
  },
  {
   "cell_type": "markdown",
   "metadata": {
    "deletable": false,
    "editable": false,
    "nbgrader": {
     "cell_type": "markdown",
     "checksum": "0e5f52b74f4ffaea57ca77ace2732647",
     "grade": false,
     "grade_id": "text",
     "locked": true,
     "schema_version": 3,
     "solution": false
    }
   },
   "source": [
    "### On to Problem 4 (*optional*)\n",
    "\n",
    "Now you can continue to the *optional* [Problem 4: Data analysis](Exercise-5-problem-4.ipynb)"
   ]
  }
 ],
 "metadata": {
  "anaconda-cloud": {},
  "kernelspec": {
   "display_name": "Python 3 (ipykernel)",
   "language": "python",
   "name": "python3"
  },
  "language_info": {
   "codemirror_mode": {
    "name": "ipython",
    "version": 3
   },
   "file_extension": ".py",
   "mimetype": "text/x-python",
   "name": "python",
   "nbconvert_exporter": "python",
   "pygments_lexer": "ipython3",
   "version": "3.12.7"
  }
 },
 "nbformat": 4,
 "nbformat_minor": 4
}

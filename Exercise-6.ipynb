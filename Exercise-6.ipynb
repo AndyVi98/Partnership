{
 "cells": [
  {
   "cell_type": "markdown",
   "id": "c1636f17-36ac-4651-851e-223eb46f3809",
   "metadata": {},
   "source": [
    "# Calculating the July 2025 Earthquake data from PHIVOLCS\n",
    "\n",
    "## This section reads the file and computes for the mean/min/max and number of events"
   ]
  },
  {
   "cell_type": "code",
   "execution_count": 1,
   "id": "b8ed3ea1-e38d-4990-a545-9ee47137761d",
   "metadata": {},
   "outputs": [],
   "source": [
    "import pandas as pd #import the panda first\n",
    "fp = 'July_2025_PHIVOLCS.csv' # make sure this file is uploaded in your respository to run. Also note that this file must be UTF-8 coded\n",
    "\n",
    "# YOUR CODE HERE\n",
    "data = pd.read_csv(fp)"
   ]
  },
  {
   "cell_type": "code",
   "execution_count": 2,
   "id": "1e4977a7-4c7f-4664-b5d0-7159ab294032",
   "metadata": {},
   "outputs": [
    {
     "data": {
      "text/html": [
       "<div>\n",
       "<style scoped>\n",
       "    .dataframe tbody tr th:only-of-type {\n",
       "        vertical-align: middle;\n",
       "    }\n",
       "\n",
       "    .dataframe tbody tr th {\n",
       "        vertical-align: top;\n",
       "    }\n",
       "\n",
       "    .dataframe thead th {\n",
       "        text-align: right;\n",
       "    }\n",
       "</style>\n",
       "<table border=\"1\" class=\"dataframe\">\n",
       "  <thead>\n",
       "    <tr style=\"text-align: right;\">\n",
       "      <th></th>\n",
       "      <th>Date</th>\n",
       "      <th>Time</th>\n",
       "      <th>Latitude</th>\n",
       "      <th>Longitude</th>\n",
       "      <th>depth</th>\n",
       "      <th>Mag</th>\n",
       "      <th>Location</th>\n",
       "    </tr>\n",
       "  </thead>\n",
       "  <tbody>\n",
       "    <tr>\n",
       "      <th>0</th>\n",
       "      <td>31-Jul-25</td>\n",
       "      <td>11:50 PM</td>\n",
       "      <td>8.06</td>\n",
       "      <td>126.25</td>\n",
       "      <td>33</td>\n",
       "      <td>1.6</td>\n",
       "      <td>018 km N 84° W of Lingig (Surigao Del Sur)</td>\n",
       "    </tr>\n",
       "    <tr>\n",
       "      <th>1</th>\n",
       "      <td>31-Jul-25</td>\n",
       "      <td>11:50 PM</td>\n",
       "      <td>8.63</td>\n",
       "      <td>126.36</td>\n",
       "      <td>22</td>\n",
       "      <td>1.4</td>\n",
       "      <td>020 km S 49° E of San Agustin (Surigao Del Sur)</td>\n",
       "    </tr>\n",
       "    <tr>\n",
       "      <th>2</th>\n",
       "      <td>31-Jul-25</td>\n",
       "      <td>11:46 PM</td>\n",
       "      <td>9.78</td>\n",
       "      <td>123.02</td>\n",
       "      <td>26</td>\n",
       "      <td>2.0</td>\n",
       "      <td>011 km N 65° E of Mabinay (Negros Oriental)</td>\n",
       "    </tr>\n",
       "    <tr>\n",
       "      <th>3</th>\n",
       "      <td>31-Jul-25</td>\n",
       "      <td>11:45 PM</td>\n",
       "      <td>8.32</td>\n",
       "      <td>126.55</td>\n",
       "      <td>45</td>\n",
       "      <td>1.6</td>\n",
       "      <td>024 km S 78° E of Hinatuan (Surigao Del Sur)</td>\n",
       "    </tr>\n",
       "    <tr>\n",
       "      <th>4</th>\n",
       "      <td>31-Jul-25</td>\n",
       "      <td>11:27 PM</td>\n",
       "      <td>13.40</td>\n",
       "      <td>120.17</td>\n",
       "      <td>7</td>\n",
       "      <td>2.7</td>\n",
       "      <td>032 km S 86° W of Paluan (Occidental Mindoro)</td>\n",
       "    </tr>\n",
       "  </tbody>\n",
       "</table>\n",
       "</div>"
      ],
      "text/plain": [
       "        Date       Time  Latitude  Longitude  depth  Mag  \\\n",
       "0  31-Jul-25   11:50 PM      8.06     126.25     33  1.6   \n",
       "1  31-Jul-25   11:50 PM      8.63     126.36     22  1.4   \n",
       "2  31-Jul-25   11:46 PM      9.78     123.02     26  2.0   \n",
       "3  31-Jul-25   11:45 PM      8.32     126.55     45  1.6   \n",
       "4  31-Jul-25   11:27 PM     13.40     120.17      7  2.7   \n",
       "\n",
       "                                          Location  \n",
       "0       018 km N 84° W of Lingig (Surigao Del Sur)  \n",
       "1  020 km S 49° E of San Agustin (Surigao Del Sur)  \n",
       "2      011 km N 65° E of Mabinay (Negros Oriental)  \n",
       "3     024 km S 78° E of Hinatuan (Surigao Del Sur)  \n",
       "4    032 km S 86° W of Paluan (Occidental Mindoro)  "
      ]
     },
     "execution_count": 2,
     "metadata": {},
     "output_type": "execute_result"
    }
   ],
   "source": [
    "data.head() #Check the headings"
   ]
  },
  {
   "cell_type": "code",
   "execution_count": 3,
   "id": "7caa2bc5-435e-4de5-bdde-62ea08a5ebfa",
   "metadata": {},
   "outputs": [],
   "source": [
    "row_count = None\n",
    "column_names = None\n",
    "column_datatypes = None\n",
    "\n",
    "# YOUR CODE HERE\n",
    "row_count = len(data) #use to identify number of rows\n",
    "column_names = data.columns #use to determine column names\n",
    "column_datatypes = data.dtypes #use to determine types of columns"
   ]
  },
  {
   "cell_type": "code",
   "execution_count": 4,
   "id": "0b7b814a-7f77-4c1a-bae4-1dc151da3b7b",
   "metadata": {},
   "outputs": [
    {
     "name": "stdout",
     "output_type": "stream",
     "text": [
      "There are 1421 rows\n",
      "The columns are: \n",
      "Index(['Date', 'Time', 'Latitude', 'Longitude', 'depth', 'Mag', 'Location'], dtype='object')\n",
      "The column types are: \n",
      "Date          object\n",
      "Time          object\n",
      "Latitude     float64\n",
      "Longitude    float64\n",
      "depth          int64\n",
      "Mag          float64\n",
      "Location      object\n",
      "dtype: object\n"
     ]
    }
   ],
   "source": [
    "# Print the number of rows in the dataframe:\n",
    "print(f\"There are {row_count} rows\")\n",
    "\n",
    "# Print the column names:\n",
    "print(f\"The columns are: \\n{column_names}\")\n",
    "\n",
    "# Print the column datatypes:\n",
    "print(f\"The column types are: \\n{column_datatypes}\")"
   ]
  },
  {
   "cell_type": "markdown",
   "id": "87dfb85a-4043-4413-a689-a132f57bca6a",
   "metadata": {},
   "source": [
    "### For the Magnitude data, this computes mean/min/max and also unique days"
   ]
  },
  {
   "cell_type": "code",
   "execution_count": 5,
   "id": "515682b1-6d5a-4e36-8f63-99da665acbb3",
   "metadata": {},
   "outputs": [],
   "source": [
    "## Change the column names\n",
    "data.columns = data.columns.str.replace(\"Mag\", \"Mw\")"
   ]
  },
  {
   "cell_type": "code",
   "execution_count": 6,
   "id": "977c2f8e-9fab-4e5b-92a0-83d8c3cae03d",
   "metadata": {},
   "outputs": [
    {
     "name": "stdout",
     "output_type": "stream",
     "text": [
      "Index(['Date', 'Time', 'Latitude', 'Longitude', 'depth', 'Mw', 'Location'], dtype='object')\n"
     ]
    }
   ],
   "source": [
    "print(data.columns)"
   ]
  },
  {
   "cell_type": "code",
   "execution_count": 7,
   "id": "f39bcf37-7e7e-4dc2-b31c-d787d5a20eb7",
   "metadata": {},
   "outputs": [
    {
     "data": {
      "text/html": [
       "<div>\n",
       "<style scoped>\n",
       "    .dataframe tbody tr th:only-of-type {\n",
       "        vertical-align: middle;\n",
       "    }\n",
       "\n",
       "    .dataframe tbody tr th {\n",
       "        vertical-align: top;\n",
       "    }\n",
       "\n",
       "    .dataframe thead th {\n",
       "        text-align: right;\n",
       "    }\n",
       "</style>\n",
       "<table border=\"1\" class=\"dataframe\">\n",
       "  <thead>\n",
       "    <tr style=\"text-align: right;\">\n",
       "      <th></th>\n",
       "      <th>Date</th>\n",
       "      <th>Time</th>\n",
       "      <th>Latitude</th>\n",
       "      <th>Longitude</th>\n",
       "      <th>depth</th>\n",
       "      <th>Mw</th>\n",
       "      <th>Location</th>\n",
       "    </tr>\n",
       "  </thead>\n",
       "  <tbody>\n",
       "    <tr>\n",
       "      <th>0</th>\n",
       "      <td>31-Jul-25</td>\n",
       "      <td>11:50 PM</td>\n",
       "      <td>8.06</td>\n",
       "      <td>126.25</td>\n",
       "      <td>33</td>\n",
       "      <td>1.6</td>\n",
       "      <td>018 km N 84° W of Lingig (Surigao Del Sur)</td>\n",
       "    </tr>\n",
       "    <tr>\n",
       "      <th>1</th>\n",
       "      <td>31-Jul-25</td>\n",
       "      <td>11:50 PM</td>\n",
       "      <td>8.63</td>\n",
       "      <td>126.36</td>\n",
       "      <td>22</td>\n",
       "      <td>1.4</td>\n",
       "      <td>020 km S 49° E of San Agustin (Surigao Del Sur)</td>\n",
       "    </tr>\n",
       "    <tr>\n",
       "      <th>2</th>\n",
       "      <td>31-Jul-25</td>\n",
       "      <td>11:46 PM</td>\n",
       "      <td>9.78</td>\n",
       "      <td>123.02</td>\n",
       "      <td>26</td>\n",
       "      <td>2.0</td>\n",
       "      <td>011 km N 65° E of Mabinay (Negros Oriental)</td>\n",
       "    </tr>\n",
       "    <tr>\n",
       "      <th>3</th>\n",
       "      <td>31-Jul-25</td>\n",
       "      <td>11:45 PM</td>\n",
       "      <td>8.32</td>\n",
       "      <td>126.55</td>\n",
       "      <td>45</td>\n",
       "      <td>1.6</td>\n",
       "      <td>024 km S 78° E of Hinatuan (Surigao Del Sur)</td>\n",
       "    </tr>\n",
       "    <tr>\n",
       "      <th>4</th>\n",
       "      <td>31-Jul-25</td>\n",
       "      <td>11:27 PM</td>\n",
       "      <td>13.40</td>\n",
       "      <td>120.17</td>\n",
       "      <td>7</td>\n",
       "      <td>2.7</td>\n",
       "      <td>032 km S 86° W of Paluan (Occidental Mindoro)</td>\n",
       "    </tr>\n",
       "  </tbody>\n",
       "</table>\n",
       "</div>"
      ],
      "text/plain": [
       "        Date       Time  Latitude  Longitude  depth   Mw  \\\n",
       "0  31-Jul-25   11:50 PM      8.06     126.25     33  1.6   \n",
       "1  31-Jul-25   11:50 PM      8.63     126.36     22  1.4   \n",
       "2  31-Jul-25   11:46 PM      9.78     123.02     26  2.0   \n",
       "3  31-Jul-25   11:45 PM      8.32     126.55     45  1.6   \n",
       "4  31-Jul-25   11:27 PM     13.40     120.17      7  2.7   \n",
       "\n",
       "                                          Location  \n",
       "0       018 km N 84° W of Lingig (Surigao Del Sur)  \n",
       "1  020 km S 49° E of San Agustin (Surigao Del Sur)  \n",
       "2      011 km N 65° E of Mabinay (Negros Oriental)  \n",
       "3     024 km S 78° E of Hinatuan (Surigao Del Sur)  \n",
       "4    032 km S 86° W of Paluan (Occidental Mindoro)  "
      ]
     },
     "execution_count": 7,
     "metadata": {},
     "output_type": "execute_result"
    }
   ],
   "source": [
    "data.head() #check if it has been replaced"
   ]
  },
  {
   "cell_type": "code",
   "execution_count": 8,
   "id": "880c8936-2db9-4424-bb0a-63f67813cee2",
   "metadata": {},
   "outputs": [],
   "source": [
    "# in removing a column, there are other ways and one of them is just by using drop()\n",
    "data = data.drop(['Location','Longitude','Latitude','Time'], axis=1)"
   ]
  },
  {
   "cell_type": "code",
   "execution_count": 9,
   "id": "ad040080-8235-43d5-8547-b24dbc64d803",
   "metadata": {},
   "outputs": [
    {
     "data": {
      "text/html": [
       "<div>\n",
       "<style scoped>\n",
       "    .dataframe tbody tr th:only-of-type {\n",
       "        vertical-align: middle;\n",
       "    }\n",
       "\n",
       "    .dataframe tbody tr th {\n",
       "        vertical-align: top;\n",
       "    }\n",
       "\n",
       "    .dataframe thead th {\n",
       "        text-align: right;\n",
       "    }\n",
       "</style>\n",
       "<table border=\"1\" class=\"dataframe\">\n",
       "  <thead>\n",
       "    <tr style=\"text-align: right;\">\n",
       "      <th></th>\n",
       "      <th>Date</th>\n",
       "      <th>depth</th>\n",
       "      <th>Mw</th>\n",
       "    </tr>\n",
       "  </thead>\n",
       "  <tbody>\n",
       "    <tr>\n",
       "      <th>0</th>\n",
       "      <td>31-Jul-25</td>\n",
       "      <td>33</td>\n",
       "      <td>1.6</td>\n",
       "    </tr>\n",
       "    <tr>\n",
       "      <th>1</th>\n",
       "      <td>31-Jul-25</td>\n",
       "      <td>22</td>\n",
       "      <td>1.4</td>\n",
       "    </tr>\n",
       "    <tr>\n",
       "      <th>2</th>\n",
       "      <td>31-Jul-25</td>\n",
       "      <td>26</td>\n",
       "      <td>2.0</td>\n",
       "    </tr>\n",
       "    <tr>\n",
       "      <th>3</th>\n",
       "      <td>31-Jul-25</td>\n",
       "      <td>45</td>\n",
       "      <td>1.6</td>\n",
       "    </tr>\n",
       "    <tr>\n",
       "      <th>4</th>\n",
       "      <td>31-Jul-25</td>\n",
       "      <td>7</td>\n",
       "      <td>2.7</td>\n",
       "    </tr>\n",
       "  </tbody>\n",
       "</table>\n",
       "</div>"
      ],
      "text/plain": [
       "        Date  depth   Mw\n",
       "0  31-Jul-25     33  1.6\n",
       "1  31-Jul-25     22  1.4\n",
       "2  31-Jul-25     26  2.0\n",
       "3  31-Jul-25     45  1.6\n",
       "4  31-Jul-25      7  2.7"
      ]
     },
     "execution_count": 9,
     "metadata": {},
     "output_type": "execute_result"
    }
   ],
   "source": [
    "data.head() #check if it has been updated"
   ]
  },
  {
   "cell_type": "code",
   "execution_count": 10,
   "id": "994e809b-d2bb-4b07-a7e3-027b470b5913",
   "metadata": {},
   "outputs": [
    {
     "name": "stderr",
     "output_type": "stream",
     "text": [
      "C:\\Users\\User\\AppData\\Local\\Temp\\ipykernel_5536\\3668008331.py:2: UserWarning: Could not infer format, so each element will be parsed individually, falling back to `dateutil`. To ensure parsing is consistent and as-expected, please specify a format.\n",
      "  data[\"Date\"] = pd.to_datetime(data[\"Date\"])\n"
     ]
    }
   ],
   "source": [
    "# convert the date\n",
    "data[\"Date\"] = pd.to_datetime(data[\"Date\"])"
   ]
  },
  {
   "cell_type": "code",
   "execution_count": 11,
   "id": "631580e5-1359-49fc-ac5c-f8dbc08df0e6",
   "metadata": {},
   "outputs": [
    {
     "data": {
      "text/plain": [
       "0   2025-07-31\n",
       "1   2025-07-31\n",
       "2   2025-07-31\n",
       "3   2025-07-31\n",
       "4   2025-07-31\n",
       "Name: Date, dtype: datetime64[ns]"
      ]
     },
     "execution_count": 11,
     "metadata": {},
     "output_type": "execute_result"
    }
   ],
   "source": [
    "data[\"Date\"].head()"
   ]
  },
  {
   "cell_type": "code",
   "execution_count": 12,
   "id": "8575afb5-4847-4dbd-bfec-1beb0d2f8474",
   "metadata": {},
   "outputs": [
    {
     "data": {
      "text/html": [
       "<div>\n",
       "<style scoped>\n",
       "    .dataframe tbody tr th:only-of-type {\n",
       "        vertical-align: middle;\n",
       "    }\n",
       "\n",
       "    .dataframe tbody tr th {\n",
       "        vertical-align: top;\n",
       "    }\n",
       "\n",
       "    .dataframe thead th {\n",
       "        text-align: right;\n",
       "    }\n",
       "</style>\n",
       "<table border=\"1\" class=\"dataframe\">\n",
       "  <thead>\n",
       "    <tr style=\"text-align: right;\">\n",
       "      <th></th>\n",
       "      <th>Date</th>\n",
       "      <th>depth</th>\n",
       "      <th>Mw</th>\n",
       "    </tr>\n",
       "  </thead>\n",
       "  <tbody>\n",
       "    <tr>\n",
       "      <th>0</th>\n",
       "      <td>2025-07-31</td>\n",
       "      <td>33</td>\n",
       "      <td>1.6</td>\n",
       "    </tr>\n",
       "    <tr>\n",
       "      <th>1</th>\n",
       "      <td>2025-07-31</td>\n",
       "      <td>22</td>\n",
       "      <td>1.4</td>\n",
       "    </tr>\n",
       "    <tr>\n",
       "      <th>2</th>\n",
       "      <td>2025-07-31</td>\n",
       "      <td>26</td>\n",
       "      <td>2.0</td>\n",
       "    </tr>\n",
       "    <tr>\n",
       "      <th>3</th>\n",
       "      <td>2025-07-31</td>\n",
       "      <td>45</td>\n",
       "      <td>1.6</td>\n",
       "    </tr>\n",
       "    <tr>\n",
       "      <th>4</th>\n",
       "      <td>2025-07-31</td>\n",
       "      <td>7</td>\n",
       "      <td>2.7</td>\n",
       "    </tr>\n",
       "  </tbody>\n",
       "</table>\n",
       "</div>"
      ],
      "text/plain": [
       "        Date  depth   Mw\n",
       "0 2025-07-31     33  1.6\n",
       "1 2025-07-31     22  1.4\n",
       "2 2025-07-31     26  2.0\n",
       "3 2025-07-31     45  1.6\n",
       "4 2025-07-31      7  2.7"
      ]
     },
     "execution_count": 12,
     "metadata": {},
     "output_type": "execute_result"
    }
   ],
   "source": [
    "data.head()"
   ]
  },
  {
   "cell_type": "code",
   "execution_count": 13,
   "id": "c2972551-bcb2-4fbf-ae51-1113c5d1896e",
   "metadata": {},
   "outputs": [],
   "source": [
    "data[\"MONTH_DAY\"] = pd.to_datetime(data[\"Date\"], format=\"%d %B\", exact=False).dt.strftime('%m%d')"
   ]
  },
  {
   "cell_type": "code",
   "execution_count": 14,
   "id": "5ad0e666-b1c7-409d-87e8-afb9021b4604",
   "metadata": {},
   "outputs": [
    {
     "data": {
      "text/html": [
       "<div>\n",
       "<style scoped>\n",
       "    .dataframe tbody tr th:only-of-type {\n",
       "        vertical-align: middle;\n",
       "    }\n",
       "\n",
       "    .dataframe tbody tr th {\n",
       "        vertical-align: top;\n",
       "    }\n",
       "\n",
       "    .dataframe thead th {\n",
       "        text-align: right;\n",
       "    }\n",
       "</style>\n",
       "<table border=\"1\" class=\"dataframe\">\n",
       "  <thead>\n",
       "    <tr style=\"text-align: right;\">\n",
       "      <th></th>\n",
       "      <th>Date</th>\n",
       "      <th>depth</th>\n",
       "      <th>Mw</th>\n",
       "      <th>MONTH_DAY</th>\n",
       "    </tr>\n",
       "  </thead>\n",
       "  <tbody>\n",
       "    <tr>\n",
       "      <th>0</th>\n",
       "      <td>2025-07-31</td>\n",
       "      <td>33</td>\n",
       "      <td>1.6</td>\n",
       "      <td>0731</td>\n",
       "    </tr>\n",
       "    <tr>\n",
       "      <th>1</th>\n",
       "      <td>2025-07-31</td>\n",
       "      <td>22</td>\n",
       "      <td>1.4</td>\n",
       "      <td>0731</td>\n",
       "    </tr>\n",
       "    <tr>\n",
       "      <th>2</th>\n",
       "      <td>2025-07-31</td>\n",
       "      <td>26</td>\n",
       "      <td>2.0</td>\n",
       "      <td>0731</td>\n",
       "    </tr>\n",
       "    <tr>\n",
       "      <th>3</th>\n",
       "      <td>2025-07-31</td>\n",
       "      <td>45</td>\n",
       "      <td>1.6</td>\n",
       "      <td>0731</td>\n",
       "    </tr>\n",
       "    <tr>\n",
       "      <th>4</th>\n",
       "      <td>2025-07-31</td>\n",
       "      <td>7</td>\n",
       "      <td>2.7</td>\n",
       "      <td>0731</td>\n",
       "    </tr>\n",
       "  </tbody>\n",
       "</table>\n",
       "</div>"
      ],
      "text/plain": [
       "        Date  depth   Mw MONTH_DAY\n",
       "0 2025-07-31     33  1.6      0731\n",
       "1 2025-07-31     22  1.4      0731\n",
       "2 2025-07-31     26  2.0      0731\n",
       "3 2025-07-31     45  1.6      0731\n",
       "4 2025-07-31      7  2.7      0731"
      ]
     },
     "execution_count": 14,
     "metadata": {},
     "output_type": "execute_result"
    }
   ],
   "source": [
    "data.head() # check if you added a new column with converted date"
   ]
  },
  {
   "cell_type": "code",
   "execution_count": 15,
   "id": "06ed1776-0512-4562-832a-b60f5e7c9571",
   "metadata": {},
   "outputs": [],
   "source": [
    "# group the data per day\n",
    "grouped = data.groupby(data[\"MONTH_DAY\"])"
   ]
  },
  {
   "cell_type": "code",
   "execution_count": 16,
   "id": "5a982da8-7711-4cda-b5ff-025bb35d0c87",
   "metadata": {},
   "outputs": [
    {
     "data": {
      "text/plain": [
       "31"
      ]
     },
     "execution_count": 16,
     "metadata": {},
     "output_type": "execute_result"
    }
   ],
   "source": [
    "type(grouped)\n",
    "len(grouped)"
   ]
  },
  {
   "cell_type": "code",
   "execution_count": 17,
   "id": "e3d0a7e7-f092-4184-9cb1-4dc29cc3bd21",
   "metadata": {},
   "outputs": [
    {
     "data": {
      "text/plain": [
       "dict_keys(['0701', '0702', '0703', '0704', '0705', '0706', '0707', '0708', '0709', '0710', '0711', '0712', '0713', '0714', '0715', '0716', '0717', '0718', '0719', '0720', '0721', '0722', '0723', '0724', '0725', '0726', '0727', '0728', '0729', '0730', '0731'])"
      ]
     },
     "execution_count": 17,
     "metadata": {},
     "output_type": "execute_result"
    }
   ],
   "source": [
    "grouped.groups.keys()"
   ]
  },
  {
   "cell_type": "code",
   "execution_count": 18,
   "id": "e4c34104-8c7b-4c0b-a185-028e51531287",
   "metadata": {},
   "outputs": [
    {
     "name": "stdout",
     "output_type": "stream",
     "text": [
      "    Mw  depth MONTH_DAY\n",
      "0  3.8  106.0      0701\n",
      "1  4.0  178.0      0702\n",
      "2  3.8  148.0      0703\n",
      "3  4.7  168.0      0704\n",
      "4  3.1  108.0      0705\n"
     ]
    }
   ],
   "source": [
    "# Create an empty DataFrame for the aggregated values\n",
    "daily_max_list = []\n",
    "\n",
    "# Columns we want to aggregate\n",
    "max_cols = [\"Mw\", \"depth\"]\n",
    "\n",
    "# Iterate over the groups\n",
    "for key, group in grouped:\n",
    "    # Calculate max values\n",
    "    max_values = group[max_cols].max()\n",
    "\n",
    "    # Add the key (date/month info)\n",
    "    max_values[\"MONTH_DAY\"] = key\n",
    "\n",
    "    # Save to list\n",
    "    daily_max_list.append(max_values)\n",
    "\n",
    "# Turn into DataFrame\n",
    "daily_max = pd.DataFrame(daily_max_list).reset_index(drop=True)\n",
    "\n",
    "print(daily_max.head())"
   ]
  },
  {
   "cell_type": "code",
   "execution_count": 19,
   "id": "c4f3f88c-071a-49aa-877b-2b4814e16971",
   "metadata": {},
   "outputs": [],
   "source": [
    "grouped = data.groupby(data[\"MONTH_DAY\"])\n",
    "\n",
    "daily_stats = round(grouped[['Mw','depth']].mean(), 2)\n",
    "daily_stats = daily_stats.rename(columns={'Mw': 'Mw_mean','depth': 'DEP_mean'})\n",
    "\n",
    "daily_stats[['Mw_min', 'DEP_min']] = grouped[['Mw','depth']].min()\n",
    "daily_stats[['Mw_max', 'DEP_max']] = grouped[['Mw','depth']].max()\n",
    "\n",
    "daily_stats['N_events'] = grouped['Mw'].count()\n",
    "mean_Nevents = daily_stats['N_events'].mean()"
   ]
  },
  {
   "cell_type": "code",
   "execution_count": 20,
   "id": "348a348f-200c-45a4-b5dd-e2679bc62397",
   "metadata": {},
   "outputs": [
    {
     "data": {
      "text/html": [
       "<div>\n",
       "<style scoped>\n",
       "    .dataframe tbody tr th:only-of-type {\n",
       "        vertical-align: middle;\n",
       "    }\n",
       "\n",
       "    .dataframe tbody tr th {\n",
       "        vertical-align: top;\n",
       "    }\n",
       "\n",
       "    .dataframe thead th {\n",
       "        text-align: right;\n",
       "    }\n",
       "</style>\n",
       "<table border=\"1\" class=\"dataframe\">\n",
       "  <thead>\n",
       "    <tr style=\"text-align: right;\">\n",
       "      <th></th>\n",
       "      <th>Mw_mean</th>\n",
       "      <th>DEP_mean</th>\n",
       "      <th>Mw_min</th>\n",
       "      <th>DEP_min</th>\n",
       "      <th>Mw_max</th>\n",
       "      <th>DEP_max</th>\n",
       "      <th>N_events</th>\n",
       "    </tr>\n",
       "    <tr>\n",
       "      <th>MONTH_DAY</th>\n",
       "      <th></th>\n",
       "      <th></th>\n",
       "      <th></th>\n",
       "      <th></th>\n",
       "      <th></th>\n",
       "      <th></th>\n",
       "      <th></th>\n",
       "    </tr>\n",
       "  </thead>\n",
       "  <tbody>\n",
       "    <tr>\n",
       "      <th>0701</th>\n",
       "      <td>2.35</td>\n",
       "      <td>27.06</td>\n",
       "      <td>1.5</td>\n",
       "      <td>2</td>\n",
       "      <td>3.8</td>\n",
       "      <td>106</td>\n",
       "      <td>50</td>\n",
       "    </tr>\n",
       "    <tr>\n",
       "      <th>0702</th>\n",
       "      <td>2.21</td>\n",
       "      <td>41.57</td>\n",
       "      <td>1.3</td>\n",
       "      <td>2</td>\n",
       "      <td>4.0</td>\n",
       "      <td>178</td>\n",
       "      <td>35</td>\n",
       "    </tr>\n",
       "    <tr>\n",
       "      <th>0703</th>\n",
       "      <td>2.33</td>\n",
       "      <td>34.49</td>\n",
       "      <td>1.4</td>\n",
       "      <td>2</td>\n",
       "      <td>3.8</td>\n",
       "      <td>148</td>\n",
       "      <td>39</td>\n",
       "    </tr>\n",
       "    <tr>\n",
       "      <th>0704</th>\n",
       "      <td>2.39</td>\n",
       "      <td>34.15</td>\n",
       "      <td>1.4</td>\n",
       "      <td>2</td>\n",
       "      <td>4.7</td>\n",
       "      <td>168</td>\n",
       "      <td>47</td>\n",
       "    </tr>\n",
       "    <tr>\n",
       "      <th>0705</th>\n",
       "      <td>2.20</td>\n",
       "      <td>27.88</td>\n",
       "      <td>1.0</td>\n",
       "      <td>1</td>\n",
       "      <td>3.1</td>\n",
       "      <td>108</td>\n",
       "      <td>42</td>\n",
       "    </tr>\n",
       "  </tbody>\n",
       "</table>\n",
       "</div>"
      ],
      "text/plain": [
       "           Mw_mean  DEP_mean  Mw_min  DEP_min  Mw_max  DEP_max  N_events\n",
       "MONTH_DAY                                                               \n",
       "0701          2.35     27.06     1.5        2     3.8      106        50\n",
       "0702          2.21     41.57     1.3        2     4.0      178        35\n",
       "0703          2.33     34.49     1.4        2     3.8      148        39\n",
       "0704          2.39     34.15     1.4        2     4.7      168        47\n",
       "0705          2.20     27.88     1.0        1     3.1      108        42"
      ]
     },
     "execution_count": 20,
     "metadata": {},
     "output_type": "execute_result"
    }
   ],
   "source": [
    "daily_stats.head()"
   ]
  },
  {
   "cell_type": "code",
   "execution_count": 21,
   "id": "849911b5-6cae-4597-aa82-51bf71bbfc59",
   "metadata": {},
   "outputs": [
    {
     "name": "stdout",
     "output_type": "stream",
     "text": [
      "MONTH: July 2025\n",
      "NUMBER OF EVENTS RECORDED: 1421\n",
      "Average number of earthquakes per day: 45.8\n",
      "           Mw_mean  DEP_mean  Mw_min  DEP_min  Mw_max  DEP_max  N_events\n",
      "MONTH_DAY                                                               \n",
      "0701          2.35     27.06     1.5        2     3.8      106        50\n",
      "0702          2.21     41.57     1.3        2     4.0      178        35\n",
      "0703          2.33     34.49     1.4        2     3.8      148        39\n",
      "0704          2.39     34.15     1.4        2     4.7      168        47\n",
      "0705          2.20     27.88     1.0        1     3.1      108        42\n",
      "           Mw_mean  DEP_mean  Mw_min  DEP_min  Mw_max  DEP_max  N_events\n",
      "MONTH_DAY                                                               \n",
      "0707          2.28     23.89     1.2        1     4.0      132        73\n",
      "0714          2.29     46.00     1.3        2     5.1      529        69\n",
      "0722          2.50     22.28     1.4        1     4.0       78        61\n",
      "0731          2.32     34.07     1.4        1     4.1      134        60\n",
      "0723          2.39     27.92     1.4        1     4.6      132        59\n",
      "\n",
      "\n"
     ]
    }
   ],
   "source": [
    " # Print info about the current input file:\n",
    "print(f\"MONTH: July 2025\")\n",
    "print(f\"NUMBER OF EVENTS RECORDED: {len(data)}\")\n",
    "    \n",
    "print(f'Average number of earthquakes per day: {round(mean_Nevents, 1)}') # round to the nearest 1 decimal place\n",
    "print(daily_stats.head())\n",
    "\n",
    "    # Print info\n",
    "print(daily_stats.sort_values(by=\"N_events\", ascending=False).head(5))\n",
    "print(\"\\n\")"
   ]
  },
  {
   "cell_type": "code",
   "execution_count": null,
   "id": "c03cd957-741d-43b0-8372-b58da59c2743",
   "metadata": {},
   "outputs": [],
   "source": []
  }
 ],
 "metadata": {
  "kernelspec": {
   "display_name": "Python 3 (ipykernel)",
   "language": "python",
   "name": "python3"
  },
  "language_info": {
   "codemirror_mode": {
    "name": "ipython",
    "version": 3
   },
   "file_extension": ".py",
   "mimetype": "text/x-python",
   "name": "python",
   "nbconvert_exporter": "python",
   "pygments_lexer": "ipython3",
   "version": "3.12.7"
  }
 },
 "nbformat": 4,
 "nbformat_minor": 5
}

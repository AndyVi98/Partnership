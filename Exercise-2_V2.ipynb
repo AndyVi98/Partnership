{
 "cells": [
  {
   "cell_type": "markdown",
   "metadata": {
    "deletable": false,
    "nbgrader": {
     "cell_type": "markdown",
     "checksum": "43d4af1666fb50a3356aaa2be8f1002a",
     "grade": false,
     "grade_id": "cell-577a4204893ab1a5",
     "locked": true,
     "schema_version": 3,
     "solution": false
    },
    "tags": []
   },
   "source": [
    "# Exercise 2 - Lists and indices (10 points)\n",
    "\n",
    "The exercise for this week is meant to help you better understand lists in Python, and practice saving changes to your files using Git and GitHub. You will also get to practice the Markdown syntax. \n",
    "\n",
    "Exercise 2 consists of 3 problems. For each problem you need to modify the notebook by adding your own solutions. **Remember to save and commit your changes locally, and push your changes to GitHub after each major change**! Regular commits will help you to keep track of your changes (and revert them if needed). Pushing your work to GitHub will ensure that you don't lose any work in case your computer crashes (yes, it can happen!).\n",
    "\n",
    "**Please don't change the file name**. Do all of your editing in the provided `Exercise-2.ipynb` file (this file). \n",
    "\n",
    "- **Exercise 2 is due by the start of the next lesson**.\n",
    "- **We are [working in pairs](https://geo-python-upd.readthedocs.io/en/latest/lessons/L2/why-pairs.html) on this exercise**, and we will only grade the repository of the driver in your pair for this week's exercise.\n",
    "\n",
    "## Please note\n",
    "\n",
    "- The Python code cells where you should make changes will contain text that reads\n",
    "\n",
    "  ```Python\n",
    "  # YOUR CODE HERE\n",
    "  raise NotImplementedError()\n",
    "  ```\n",
    "  **You should delete that text and replace it with your code** to answer the associated question.\n",
    "- Some of the cells in this Jupyter Notebook are \"Read-only\" which means that you are not able to edit them.\n",
    "- Some of the code cells contain tests. If these tests fail (you see an error message), you know there is still something wrong with your code.\n",
    "- **Please do not copy/paste code cells in this notebook**. We use an automated grading system that will fail if there are copies of code cells.\n",
    "\n",
    "## Where to find help\n",
    "\n",
    "- Review the [materials for Lesson 2](https://geo-python-upd.readthedocs.io/en/latest/lessons/L2/overview.html)\n",
    "- Check out [the hints for this week's exercise](https://geo-python-upd.readthedocs.io/en/latest/lessons/L2/exercise-2.html#exercise-2-hints) on the course webpage"
   ]
  },
  {
   "cell_type": "markdown",
   "metadata": {
    "deletable": false,
    "nbgrader": {
     "cell_type": "markdown",
     "checksum": "e101cd12eb37b9f95ef745b775df771e",
     "grade": false,
     "grade_id": "cell-51a3fbb6b8d35c74",
     "locked": true,
     "schema_version": 3,
     "solution": false
    },
    "tags": []
   },
   "source": [
    "## Problem 0 - Cloning Exercise repository in JupyterLab (0 points)\n",
    "\n",
    "~~Before starting to work with the actual problems for this week, you should start a new JupyterLab instance and clone **your own** Exercise 2 repository (e.g. `exercise-2-jdaled`) into the instance using **Git**. *Check [the Lesson 2 materials](https://geo-python-upd.readthedocs.io/en/latest/lessons/L2/git-basics.html) for instructions on how to do this.*~~\n",
    "\n",
    "If you are working on Binder, navigate to your personal repository that was created after you accepted the exercise invite.  Then, download the .ipynb file and upload to Binder manually."
   ]
  },
  {
   "cell_type": "markdown",
   "metadata": {
    "deletable": false,
    "editable": false,
    "nbgrader": {
     "cell_type": "markdown",
     "checksum": "de349ff5c9ec9c1d0fae28d456fc7cc8",
     "grade": false,
     "grade_id": "cell-34d197ef67f874ec",
     "locked": true,
     "schema_version": 3,
     "solution": false
    },
    "tags": []
   },
   "source": [
    "## Problem 1 - Making and changing lists, and using Git (3 points)\n",
    "\n",
    "Your first task for this week is to create a list of GPS stations and the years in which they began operating.\n",
    "You will then add some more stations and operation years to your lists, and finally sort the lists such that the newest station is first in the list of operation years.\n",
    "You will find the list of stations and the years in which they began operating below.\n",
    "\n",
    "| GPS Station             | First year of operation* |\n",
    "| ----------------------- | :---------------------: |\n",
    "| lighthouse              | 2003                    |\n",
    "| Iloilo                  | 1991                    |\n",
    "| Laoag                   | 2016                    |\n",
    "| Zamboanga               | 2005                    |\n",
    "| Puerto Princesa         | 1995                    |\n",
    "\n",
    "*Note: these are just made up dates*\n",
    "\n",
    "### Grading for Problem 1\n",
    "\n",
    "Your score for this problem will be based on\n",
    "\n",
    "- Creating two lists for the GPS station names and years in which they began operating\n",
    "- Adding the second set of stations and operation years to your lists\n",
    "- Sorting the lists as directed\n",
    "- ~~Committing each change separately using Git, and pushing the changes to GitHub~~\n",
    "- Listing the changes you needed to make to get the code working in plain English by modifying the existing text or adding a Markdown cell above each change"
   ]
  },
  {
   "cell_type": "markdown",
   "metadata": {
    "deletable": false,
    "editable": false,
    "nbgrader": {
     "cell_type": "markdown",
     "checksum": "8f9faf36dff34f1a5f43b28215a6d7b2",
     "grade": false,
     "grade_id": "cell-624ad911a29570ae",
     "locked": true,
     "schema_version": 3,
     "solution": false
    },
    "tags": []
   },
   "source": [
    "### Part 1 - Creating the lists (1 point)\n",
    "\n",
    "In the cell below you should create two lists:\n",
    "\n",
    "- `station_names` should contain the station names in the order they are given in the table above\n",
    "- `station_start_years` should contain the first years of operation of the stations, again in the order given above"
   ]
  },
  {
   "cell_type": "code",
   "execution_count": 11,
   "metadata": {
    "deletable": false,
    "nbgrader": {
     "cell_type": "code",
     "checksum": "30b2defcd516fd1d0ee4fc1d2185b387",
     "grade": false,
     "grade_id": "problem_1_ag_p1_station_lists",
     "locked": false,
     "schema_version": 3,
     "solution": true,
     "task": false
    }
   },
   "outputs": [
    {
     "name": "stdout",
     "output_type": "stream",
     "text": [
      "['lighthouse', 'Iloilo', 'Laoag', 'Zamboanga', 'Puerto Princesa']\n",
      "[2003, 1991, 2016, 2005, 1995]\n"
     ]
    }
   ],
   "source": [
    "# Create the lists below\n",
    "station_names = [\n",
    "    \"lighthouse\", \n",
    "    \"Iloilo\",\n",
    "    \"Laoag\", \n",
    "    \"Zamboanga\", \n",
    "    \"Puerto Princesa\"\n",
    "]\n",
    "\n",
    "station_start_years = [\n",
    "    2003,\n",
    "    1991,\n",
    "    2016,\n",
    "    2005,\n",
    "    1995\n",
    "]\n",
    "# YOUR CODE HERE\n",
    "print(station_names)\n",
    "print(station_start_years)"
   ]
  },
  {
   "cell_type": "markdown",
   "metadata": {
    "deletable": false,
    "editable": false,
    "nbgrader": {
     "cell_type": "markdown",
     "checksum": "137ae18b47dd7d33f45036431920c009",
     "grade": false,
     "grade_id": "cell-a4f94f90a8ef693a",
     "locked": true,
     "schema_version": 3,
     "solution": false,
     "task": false
    }
   },
   "source": [
    "Let's now check the lists contain the expected values."
   ]
  },
  {
   "cell_type": "code",
   "execution_count": 12,
   "metadata": {
    "deletable": false,
    "editable": false,
    "nbgrader": {
     "cell_type": "code",
     "checksum": "66ba694479717036eaf391f2975da9d7",
     "grade": true,
     "grade_id": "problem_1_ag_p1_station_lists_test1",
     "locked": true,
     "points": 0.5,
     "schema_version": 3,
     "solution": false,
     "task": false
    }
   },
   "outputs": [],
   "source": [
    "# This is a test cell that checks that the list lengths are correct\n",
    "# Running this cell should not produce any errors\n",
    "assert len(station_names) == 5, 'The station_names list should have 5 items.'\n",
    "assert len(station_start_years) == 5, 'The station_start_years list should have 5 items.'"
   ]
  },
  {
   "cell_type": "code",
   "execution_count": 13,
   "metadata": {
    "deletable": false,
    "editable": false,
    "nbgrader": {
     "cell_type": "code",
     "checksum": "3e38bade7644bc60c3392d048f668d11",
     "grade": true,
     "grade_id": "problem_1_ag_p1_station_lists_test2",
     "locked": true,
     "points": 0.5,
     "schema_version": 3,
     "solution": false,
     "task": false
    }
   },
   "outputs": [],
   "source": [
    "# This is a test cell that checks that the first item in the lists is correct\n",
    "# Running this cell should not produce any errors\n",
    "assert station_names[0] == 'lighthouse', 'The first item in the station_names list should be \"lighthouse\"'\n",
    "assert station_start_years[0] == 2003, 'The first item in the station_start_years list should be 2003'"
   ]
  },
  {
   "cell_type": "markdown",
   "metadata": {
    "deletable": false,
    "editable": false,
    "nbgrader": {
     "cell_type": "markdown",
     "checksum": "4fbcc633bbf12cc049142a53e1c6e5fa",
     "grade": false,
     "grade_id": "cell-111a923765d7da38",
     "locked": true,
     "schema_version": 3,
     "solution": false
    },
    "tags": []
   },
   "source": [
    "### Part 2 - Modifying the lists (1 point)\n",
    "\n",
    "Let's now add a few more stations to our lists.\n",
    "The stations to add are shown in the table below.\n",
    "\n",
    "| GPS Station      | First year of operation |\n",
    "| ---------------- | :---------------------: |\n",
    "| Virac            | 1992                    |\n",
    "| Surigao          | 2012                    |\n",
    "| Davao            | 1994                    |\n",
    "\n",
    "In the cell below you should add the stations and starting years to your existing `station_names` and `station_start_years` lists in the order they are listed above."
   ]
  },
  {
   "cell_type": "code",
   "execution_count": 14,
   "metadata": {
    "deletable": false,
    "nbgrader": {
     "cell_type": "code",
     "checksum": "1ae21fc20a36b1d2a8851a04ba0e0919",
     "grade": false,
     "grade_id": "problem_1_ag_p2_modify_lists",
     "locked": false,
     "schema_version": 3,
     "solution": true
    }
   },
   "outputs": [
    {
     "name": "stdout",
     "output_type": "stream",
     "text": [
      "['lighthouse', 'Iloilo', 'Laoag', 'Zamboanga', 'Puerto Princesa', 'Virac', 'Surigao', 'Davao']\n",
      "[2003, 1991, 2016, 2005, 1995, 1992, 2012, 1994]\n"
     ]
    }
   ],
   "source": [
    "# Below, add the stations from the second table to the lists\n",
    "station_names.append(\"Virac\")\n",
    "station_start_years.append(1992)\n",
    "station_names.append(\"Surigao\")\n",
    "station_start_years.append( 2012)\n",
    "station_names.append( \"Davao\")\n",
    "station_start_years.append(1994)\n",
    "\n",
    "# YOUR CODE HERE\n",
    "print(station_names)\n",
    "print(station_start_years)\n",
    "\n"
   ]
  },
  {
   "cell_type": "markdown",
   "metadata": {
    "deletable": false,
    "editable": false,
    "nbgrader": {
     "cell_type": "markdown",
     "checksum": "4a602161f3d1e9d78420fc50666dcb7d",
     "grade": false,
     "grade_id": "cell-25712dde56b0deb9",
     "locked": true,
     "schema_version": 3,
     "solution": false,
     "task": false
    }
   },
   "source": [
    "And we can now check to see whether the modified lists contain the expected values."
   ]
  },
  {
   "cell_type": "code",
   "execution_count": 15,
   "metadata": {
    "deletable": false,
    "editable": false,
    "nbgrader": {
     "cell_type": "code",
     "checksum": "2b48ea5a73266d2db26ddfaf63726f32",
     "grade": true,
     "grade_id": "problem_1_ag_p2_modify_lists_test1",
     "locked": true,
     "points": 0.5,
     "schema_version": 3,
     "solution": false
    }
   },
   "outputs": [],
   "source": [
    "# This is a test cell that checks that the list lengths are correct\n",
    "# Running this cell should not produce any errors\n",
    "assert len(station_names) == 8, 'The station_names list should have 8 items.'\n",
    "assert len(station_start_years) == 8, 'The station_start_years list should have 8 items.'"
   ]
  },
  {
   "cell_type": "code",
   "execution_count": 16,
   "metadata": {
    "deletable": false,
    "editable": false,
    "nbgrader": {
     "cell_type": "code",
     "checksum": "139a20a651acd1843e4c1c8a0a24c6e3",
     "grade": true,
     "grade_id": "problem_1_ag_p2_modify_lists_test2",
     "locked": true,
     "points": 0.5,
     "schema_version": 3,
     "solution": false,
     "task": false
    },
    "tags": []
   },
   "outputs": [],
   "source": [
    "# This is a test cell that checks that the last item in the lists is correct\n",
    "# Running this cell should not produce any errors\n",
    "assert station_names[-1] == 'Davao', 'The last item in the station_names list should be \"Davao\"'\n",
    "assert station_start_years[-1] == 1994, 'The last item in the station_start_years list should be 1994'"
   ]
  },
  {
   "cell_type": "markdown",
   "metadata": {
    "deletable": false,
    "editable": false,
    "nbgrader": {
     "cell_type": "markdown",
     "checksum": "22b408e2113fb15a673c1d449e99429f",
     "grade": false,
     "grade_id": "cell-8c0ab6cf80173158",
     "locked": true,
     "schema_version": 3,
     "solution": false
    }
   },
   "source": [
    "### Part 3 - Sorting the lists (1 point)\n",
    "\n",
    "Finally, we can take our lists and sort them. The goal here is to produce two sorted lists:\n",
    "\n",
    "- The `station_names` list should be sorted so the stations are in alphabetical order\n",
    "- The `station_start_years` list should be sorted so that the most recent station starting year is first in the list"
   ]
  },
  {
   "cell_type": "code",
   "execution_count": 23,
   "metadata": {
    "deletable": false,
    "nbgrader": {
     "cell_type": "code",
     "checksum": "8a0729c0e62a836878bfb2c533bdeef8",
     "grade": false,
     "grade_id": "problem_1_ag_p3_station_years",
     "locked": false,
     "schema_version": 3,
     "solution": true
    }
   },
   "outputs": [],
   "source": [
    "# Below, sort the lists as directed\n",
    "station_names.sort()\n",
    "station_start_years.sort()\n",
    "station_start_years.reverse()"
   ]
  },
  {
   "cell_type": "markdown",
   "metadata": {
    "deletable": false,
    "editable": false,
    "nbgrader": {
     "cell_type": "markdown",
     "checksum": "997d3e99379c4f19b51db2f64dcd8461",
     "grade": false,
     "grade_id": "cell-a3782621daec92f2",
     "locked": true,
     "schema_version": 3,
     "solution": false
    }
   },
   "source": [
    "Let's now check that the first value in each sorted list is correct."
   ]
  },
  {
   "cell_type": "code",
   "execution_count": 24,
   "metadata": {
    "deletable": false,
    "editable": false,
    "nbgrader": {
     "cell_type": "code",
     "checksum": "1d2643d42e74590b3b7f5009af19c86a",
     "grade": true,
     "grade_id": "problem_1_ag_p3_station_years_test1",
     "locked": true,
     "points": 1,
     "schema_version": 3,
     "solution": false,
     "task": false
    },
    "tags": []
   },
   "outputs": [],
   "source": [
    "# This is a test cell that checks that the last item in the lists is correct\n",
    "# Running this cell should not produce any errors\n",
    "assert station_names[0] == 'Davao', 'The first item in the station_names list should be \"Davao\"'\n",
    "assert station_start_years[0] == 2016, 'The first item in the station_start_years list should be 2016'"
   ]
  },
  {
   "cell_type": "markdown",
   "metadata": {
    "deletable": false,
    "editable": false,
    "nbgrader": {
     "cell_type": "markdown",
     "checksum": "5250b41453218310e2284d6da716e2e8",
     "grade": false,
     "grade_id": "final_answer_question",
     "locked": true,
     "schema_version": 3,
     "solution": false
    }
   },
   "source": [
    "### Part 4 - Understanding the code (0 points)\n",
    "\n",
    "Looking at the lists used in Problem 1, what might be a problem with how we have sorted them?\n",
    "Please answer briefly in the cell below."
   ]
  },
  {
   "cell_type": "markdown",
   "metadata": {
    "deletable": false,
    "nbgrader": {
     "cell_type": "markdown",
     "checksum": "c947bd864796e1c454306db805bfec51",
     "grade": true,
     "grade_id": "problem_1_mg_p4_final_answer_question_test",
     "locked": false,
     "points": 0,
     "schema_version": 3,
     "solution": true
    }
   },
   "source": [
    "YOUR ANSWER HERE"
   ]
  },
  {
   "cell_type": "markdown",
   "metadata": {
    "deletable": false,
    "editable": false,
    "nbgrader": {
     "cell_type": "markdown",
     "checksum": "d3ceafcfeb212e18fbbc5fac8079cfae",
     "grade": false,
     "grade_id": "problem_1_mg_p5_zip",
     "locked": true,
     "schema_version": 3,
     "solution": false,
     "task": false
    }
   },
   "source": [
    "### Part 5 - Python + Google (optional, 0 points)\n",
    "\n",
    "Python has a function called `zip()` that might be helpful in solving the issue mentioned in Part 4.\n",
    "If you like, you're free to do some Googling and see whether you can figure out how to use the `zip()` function to ensure that the station data is consistent for both lists when sorting the station starting years in reverse order.\n",
    "This is a completely optional task.\n",
    "\n",
    "**NOTE**: If you plan to skip this optional problem, be sure to delete the `raise NotImplementedError()` line in the cell below so that you don't have any errors when we run your notebook!"
   ]
  },
  {
   "cell_type": "code",
   "execution_count": 1,
   "metadata": {
    "deletable": false,
    "nbgrader": {
     "cell_type": "code",
     "checksum": "5baa8f50e1d4dd0f801af1f4d13aa9fc",
     "grade": true,
     "grade_id": "problem_1_mg_p5_zip_test",
     "locked": false,
     "points": 0,
     "schema_version": 3,
     "solution": true,
     "task": false
    }
   },
   "outputs": [],
   "source": [
    "# YOUR CODE HERE"
   ]
  },
  {
   "cell_type": "markdown",
   "metadata": {
    "deletable": false,
    "editable": false,
    "nbgrader": {
     "cell_type": "markdown",
     "checksum": "a6dc9f87a839953953c581d8fed720cd",
     "grade": false,
     "grade_id": "cell-f328c6e177c1d29c",
     "locked": true,
     "schema_version": 3,
     "solution": false
    },
    "tags": []
   },
   "source": [
    "## Problem 2 - Accessing monthly average temperatures (5 points)\n",
    "\n",
    "The table below presents [monthly average temperatures recorded at UP Diliman](https://www.timeanddate.com/weather/@1692193/climate).\n",
    "\n",
    "| Month     | Temperature [°C] |\n",
    "| --------- | :--------------: |\n",
    "| January   | 26.6             |\n",
    "| February  | 26.5             |\n",
    "| March     | 27.8             |\n",
    "| April     | 29.4             |\n",
    "| May       | 29.8             |\n",
    "| June      | 29.1             |\n",
    "| July      | 28.2             |\n",
    "| August    | 27.9             |\n",
    "| September | 27.9             |\n",
    "| October   | 27.8             |\n",
    "| November  | 27.4             |\n",
    "| December  | 26.6             |\n",
    "\n",
    "In the code cells below, write some Python code that allows users to select a month and have the monthly average temperature printed to the screen.\n",
    "For example, your code should display the following for the month of March:\n",
    "\n",
    "```\n",
    "The average temperature in Diliman in March is 27.8\n",
    "```\n",
    "\n",
    "### Grading for Problem 2\n",
    "\n",
    "Your score for this problem will be based on\n",
    "\n",
    "- Having your notebook display the monthly average temperature in a selected month, set by defining the variable `selected_month_index`. **NOTE**: We expect you to use the index value to select the month, not the name of the month (e.g., \"May\").\n",
    "- Having it work for all 12 months in the year.\n",
    "- Describing how your code works in a few sentences of plain English in the Markdown cell above your code\n",
    "- Including inline comments in the Python cells to clearly explain how the code works between most or all lines of your code\n",
    "- ~~Pushing your changes to your GitHub repository~~"
   ]
  },
  {
   "cell_type": "markdown",
   "metadata": {},
   "source": [
    "### List all the data into their respective variable"
   ]
  },
  {
   "cell_type": "code",
   "execution_count": 17,
   "metadata": {
    "deletable": false,
    "nbgrader": {
     "cell_type": "code",
     "checksum": "2828ab0c438284e5a404189fb2c7d539",
     "grade": false,
     "grade_id": "problem_2_ag_p1_define_lists",
     "locked": false,
     "schema_version": 3,
     "solution": true
    }
   },
   "outputs": [],
   "source": [
    "\n",
    "# Here are also the names of the two lists you should use for this problem. Please do not change the variable names!\n",
    "months = [\n",
    "    'January',\n",
    "    'February',\n",
    "    'March',\n",
    "    'April',\n",
    "    'May',\n",
    "    'June',\n",
    "    'July',\n",
    "    'August',\n",
    "    'September',\n",
    "    'October',\n",
    "    'November',\n",
    "    'December',\n",
    "]\n",
    "\n",
    "average_temp = [\n",
    "    26.6,\n",
    "    26.5,\n",
    "    27.8,\n",
    "    29.4,\n",
    "    29.8,\n",
    "    29.1,\n",
    "    28.2,\n",
    "    27.9,\n",
    "    27.9,\n",
    "    27.8,\n",
    "    27.4,\n",
    "    26.6,\n",
    "]\n",
    "\n",
    "# Here is the variable that you should use to set the selected month\n",
    "selected_month_index = months[6]\n",
    "selected_average_temp = average_temp[6]\n",
    "\n",
    "# Using the lists and their indices, generate the desired print statement\n",
    "print_statement = f\"The average temperature in Diliman in {selected_month_index} is {selected_average_temp}\"\n",
    "# Using the lists and their indices, generate the desired print statement"
   ]
  },
  {
   "cell_type": "code",
   "execution_count": 18,
   "metadata": {
    "deletable": false,
    "editable": false,
    "nbgrader": {
     "cell_type": "code",
     "checksum": "c0b2fd91ee67d8015e9158f2b313a1e0",
     "grade": true,
     "grade_id": "problem_2_ag_p1_define_lists_test1",
     "locked": true,
     "points": 1,
     "schema_version": 3,
     "solution": false
    }
   },
   "outputs": [
    {
     "name": "stdout",
     "output_type": "stream",
     "text": [
      "The average temperature in Diliman in July is 28.2\n"
     ]
    }
   ],
   "source": [
    "# This cell will help you check that the output of your print statement is correct\n",
    "print(print_statement)"
   ]
  },
  {
   "cell_type": "markdown",
   "metadata": {
    "deletable": false,
    "editable": false,
    "nbgrader": {
     "cell_type": "markdown",
     "checksum": "a5ae61d13ab20578505657c63a0ba4c9",
     "grade": false,
     "grade_id": "cell-3fb0ac91413aeadc",
     "locked": true,
     "schema_version": 3,
     "solution": false,
     "task": false
    }
   },
   "source": [
    "### Additional tests for problem 2\n",
    "\n",
    "Let's run some additional tests to see if things are working as they should! These tests may help you in solving this problem. Note, we also have some hidden tests that we will run for checking the exercises."
   ]
  },
  {
   "cell_type": "code",
   "execution_count": 19,
   "metadata": {
    "deletable": false,
    "editable": false,
    "nbgrader": {
     "cell_type": "code",
     "checksum": "df0c440fdd104211a636b03b72513edb",
     "grade": true,
     "grade_id": "problem_2_ag_p1_define_lists_test2",
     "locked": true,
     "points": 1,
     "schema_version": 3,
     "solution": false
    }
   },
   "outputs": [],
   "source": [
    "# Check that the two lists have lengths of 12\n",
    "assert len(months) == 12, 'Wrong length!'\n",
    "assert len(average_temp) == 12, 'Wrong length!'"
   ]
  },
  {
   "cell_type": "code",
   "execution_count": 20,
   "metadata": {
    "deletable": false,
    "editable": false,
    "nbgrader": {
     "cell_type": "code",
     "checksum": "199eccdae7bb698b3602374da86169e8",
     "grade": true,
     "grade_id": "problem_2_ag_p1_define_lists_test3",
     "locked": true,
     "points": 1,
     "schema_version": 3,
     "solution": false
    }
   },
   "outputs": [],
   "source": [
    "# Check that that the month and average_temp variables are lists\n",
    "assert isinstance(months, list), 'Variable months is not a list'\n",
    "assert isinstance(average_temp, list), 'Variable average_temp is not a list'"
   ]
  },
  {
   "cell_type": "code",
   "execution_count": 21,
   "metadata": {
    "deletable": false,
    "editable": false,
    "nbgrader": {
     "cell_type": "code",
     "checksum": "bb831faf6e11d37d855fcc37c85721bc",
     "grade": true,
     "grade_id": "problem_2_ag_p1_define_lists_test4",
     "locked": true,
     "points": 2,
     "schema_version": 3,
     "solution": false
    },
    "tags": []
   },
   "outputs": [],
   "source": [
    "# Check that the print statement is correct;\n",
    "# Set selected_month_index to correspond with July before running this cell.\n",
    "# Note! Your code should work with any of the 12 months!\n",
    "assert print_statement == 'The average temperature in Diliman in July is 28.2'"
   ]
  },
  {
   "cell_type": "markdown",
   "metadata": {
    "deletable": false,
    "editable": false,
    "nbgrader": {
     "cell_type": "markdown",
     "checksum": "a7d0bdf4d5b27c7594db0ae5d90032f8",
     "grade": false,
     "grade_id": "markdown_practice",
     "locked": true,
     "schema_version": 3,
     "solution": false
    }
   },
   "source": [
    "## Problem 3 - More practice using Markdown (2 points)\n",
    "\n",
    "The last task in this week's exercise is to answer some questions and add an image in this notebook using Markdown. **Note**: You may want to read a bit more about [formatting text in Github-flavored Markdown](https://help.github.com/articles/basic-writing-and-formatting-syntax/).\n",
    "\n",
    "### Grading for Problem 3\n",
    "\n",
    "Your score for this problem will be based on\n",
    "\n",
    "- Having answered the three questions below\n",
    "- Posting an image of a favorite animal using Markdown"
   ]
  },
  {
   "cell_type": "markdown",
   "metadata": {
    "deletable": false,
    "editable": false,
    "nbgrader": {
     "cell_type": "markdown",
     "checksum": "752a5d84f7e4a7915f6222e50e8fe540",
     "grade": false,
     "grade_id": "cell-fc10820df7d8d3a7",
     "locked": true,
     "schema_version": 3,
     "solution": false,
     "task": false
    }
   },
   "source": [
    "### Part 1 - Questions about this week's lesson (1 point)\n",
    "\n",
    "Please use Markdown to give your responses to the three questions below about this week's lesson.\n",
    "\n",
    "- What did you learn?\n",
    "- What was unclear?\n",
    "- What would you change about the lesson?\n",
    "    \n",
    "*Please use a Markdown list when answering these questions.*"
   ]
  },
  {
   "cell_type": "markdown",
   "metadata": {
    "deletable": false,
    "nbgrader": {
     "cell_type": "markdown",
     "checksum": "07de9dee5b2705f62be6f4908840a277",
     "grade": true,
     "grade_id": "problem_3_mg_p1_questions",
     "locked": false,
     "points": 1,
     "schema_version": 3,
     "solution": true
    }
   },
   "source": [
    "### What did you learn?\n",
    "We learned how to organize and sort list values.\n",
    "### What was unclear?\n",
    "Every part was clear and we could follow it accordingly without any problems. Thank you :)\n",
    "### What would you change about the lesson?\n",
    "Nothing :) The lesson was enjoyable and interactive!"
   ]
  },
  {
   "cell_type": "markdown",
   "metadata": {
    "deletable": false,
    "editable": false,
    "nbgrader": {
     "cell_type": "markdown",
     "checksum": "37fd62cb66a3099c5a479826fdab9c48",
     "grade": false,
     "grade_id": "cell-d6174b4b759ce32d",
     "locked": true,
     "schema_version": 3,
     "solution": false,
     "task": false
    }
   },
   "source": [
    "### Part 2 - Adding an image (1 point)\n",
    "\n",
    "Just for fun, add an image of an animal that you like along with a short caption giving its name and anything special you might like to add.\n",
    "\n",
    "You can add an image using a URL, or (if you are looking for a challenge) by uploading an image to your GitHub repository and linking that image file to this notebook.\n",
    "\n",
    "We suggest that you search for images in a repository that includes licencing information such as [Wikimedia Commons](https://commons.wikimedia.org/wiki/Main_Page) or [Pixabay](https://pixabay.com/). You are, of course, also welcome to upload your own animal images. "
   ]
  },
  {
   "cell_type": "markdown",
   "metadata": {},
   "source": [
    "### Coffee the Capybara\n",
    "This is a picture of a Capybara, a member of the rodent family! I named it Coffee since he's brown and rhymes with Capybara."
   ]
  },
  {
   "attachments": {
    "bf864a68-70a2-4dd5-8dfb-862863773e8d.jpg": {
     "image/jpeg": "[encoded data removed]"
    }
   },
   "cell_type": "markdown",
   "metadata": {},
   "source": [
    "![Hydrochoerus_hydrochaeris_222765242.jpg](attachment:bf864a68-70a2-4dd5-8dfb-862863773e8d.jpg)"
   ]
  },
  {
   "cell_type": "markdown",
   "metadata": {
    "deletable": false,
    "nbgrader": {
     "cell_type": "markdown",
     "checksum": "1db2dc7f7a933da2050ba0fc4ac2ce2f",
     "grade": true,
     "grade_id": "problem_3_mg_p1_insert_image",
     "locked": false,
     "points": 1,
     "schema_version": 3,
     "solution": true
    }
   },
   "source": []
  }
 ],
 "metadata": {
  "anaconda-cloud": {},
  "kernelspec": {
   "display_name": "Python 3 (ipykernel)",
   "language": "python",
   "name": "python3"
  },
  "language_info": {
   "codemirror_mode": {
    "name": "ipython",
    "version": 3
   },
   "file_extension": ".py",
   "mimetype": "text/x-python",
   "name": "python",
   "nbconvert_exporter": "python",
   "pygments_lexer": "ipython3",
   "version": "3.12.7"
  }
 },
 "nbformat": 4,
 "nbformat_minor": 4
}
